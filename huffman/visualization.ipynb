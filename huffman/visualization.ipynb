{
 "cells": [
  {
   "cell_type": "code",
   "execution_count": 75,
   "metadata": {},
   "outputs": [],
   "source": [
    "import pandas as pd\n",
    "import numpy as np\n",
    "import xarray as xr\n",
    "import datashader as ds\n",
    "import math\n",
    "import matplotlib.pyplot as plt\n",
    "import datashader.transfer_functions as tf"
   ]
  },
  {
   "cell_type": "markdown",
   "metadata": {},
   "source": [
    "Moving dataset visualization"
   ]
  },
  {
   "cell_type": "code",
   "execution_count": 76,
   "metadata": {},
   "outputs": [],
   "source": [
    "def visualize_moving_dataset(arr, start, n, speed):\n",
    "    moveDist = speed\n",
    "    while True:\n",
    "        data = {\"x\": np.arange(start, start+n), \"y\": arr[start:start+n]}\n",
    "        df = pd.DataFrame(data)\n",
    "        cvs = ds.Canvas(x_range=(start, start+n-1), y_range=(np.min(arr[start:start+n]), np.max(arr[start:start+n])), plot_height=250, plot_width=1200)\n",
    "        img = tf.shade(cvs.line(df, 'x', 'y'), cmap=['red'])\n",
    "\n",
    "        # Display the image\n",
    "        display(img)\n",
    "        \n",
    "        # Input for navigation\n",
    "        #isRight = input(\"< move >: \") == \">\"\n",
    "        isRight = True\n",
    "        start += moveDist if isRight else -moveDist\n",
    "        start = max(start, 0)\n",
    "        \n",
    "        # Clear the output for the next image\n",
    "        clear_output(wait=True)"
   ]
  },
  {
   "cell_type": "code",
   "execution_count": 78,
   "metadata": {},
   "outputs": [
    {
     "ename": "KeyboardInterrupt",
     "evalue": "",
     "output_type": "error",
     "traceback": [
      "\u001b[0;31m---------------------------------------------------------------------------\u001b[0m",
      "\u001b[0;31mKeyboardInterrupt\u001b[0m                         Traceback (most recent call last)",
      "\u001b[1;32m/home/appllo/projects/sdr-projects/huffman/visualization.ipynb Cell 4\u001b[0m line \u001b[0;36m4\n\u001b[1;32m      <a href='vscode-notebook-cell://wsl%2Bubuntu/home/appllo/projects/sdr-projects/huffman/visualization.ipynb#W4sdnNjb2RlLXJlbW90ZQ%3D%3D?line=0'>1</a>\u001b[0m \u001b[39mfrom\u001b[39;00m \u001b[39mIPython\u001b[39;00m\u001b[39m.\u001b[39;00m\u001b[39mdisplay\u001b[39;00m \u001b[39mimport\u001b[39;00m display, clear_output\n\u001b[1;32m      <a href='vscode-notebook-cell://wsl%2Bubuntu/home/appllo/projects/sdr-projects/huffman/visualization.ipynb#W4sdnNjb2RlLXJlbW90ZQ%3D%3D?line=2'>3</a>\u001b[0m arr \u001b[39m=\u001b[39m np\u001b[39m.\u001b[39mfromfile(\u001b[39m\"\u001b[39m\u001b[39mcontinuous-tests/shortsine-1m.in\u001b[39m\u001b[39m\"\u001b[39m, sep\u001b[39m=\u001b[39m\u001b[39m\"\u001b[39m\u001b[39m\"\u001b[39m, dtype\u001b[39m=\u001b[39mnp\u001b[39m.\u001b[39mfloat32)\n\u001b[0;32m----> <a href='vscode-notebook-cell://wsl%2Bubuntu/home/appllo/projects/sdr-projects/huffman/visualization.ipynb#W4sdnNjb2RlLXJlbW90ZQ%3D%3D?line=3'>4</a>\u001b[0m visualize_moving_dataset(arr, \u001b[39m0\u001b[39;49m, \u001b[39m1000\u001b[39;49m, \u001b[39m5\u001b[39;49m)\n",
      "\u001b[1;32m/home/appllo/projects/sdr-projects/huffman/visualization.ipynb Cell 4\u001b[0m line \u001b[0;36m7\n\u001b[1;32m      <a href='vscode-notebook-cell://wsl%2Bubuntu/home/appllo/projects/sdr-projects/huffman/visualization.ipynb#W4sdnNjb2RlLXJlbW90ZQ%3D%3D?line=4'>5</a>\u001b[0m df \u001b[39m=\u001b[39m pd\u001b[39m.\u001b[39mDataFrame(data)\n\u001b[1;32m      <a href='vscode-notebook-cell://wsl%2Bubuntu/home/appllo/projects/sdr-projects/huffman/visualization.ipynb#W4sdnNjb2RlLXJlbW90ZQ%3D%3D?line=5'>6</a>\u001b[0m cvs \u001b[39m=\u001b[39m ds\u001b[39m.\u001b[39mCanvas(x_range\u001b[39m=\u001b[39m(start, start\u001b[39m+\u001b[39mn\u001b[39m-\u001b[39m\u001b[39m1\u001b[39m), y_range\u001b[39m=\u001b[39m(np\u001b[39m.\u001b[39mmin(arr[start:start\u001b[39m+\u001b[39mn]), np\u001b[39m.\u001b[39mmax(arr[start:start\u001b[39m+\u001b[39mn])), plot_height\u001b[39m=\u001b[39m\u001b[39m250\u001b[39m, plot_width\u001b[39m=\u001b[39m\u001b[39m1200\u001b[39m)\n\u001b[0;32m----> <a href='vscode-notebook-cell://wsl%2Bubuntu/home/appllo/projects/sdr-projects/huffman/visualization.ipynb#W4sdnNjb2RlLXJlbW90ZQ%3D%3D?line=6'>7</a>\u001b[0m img \u001b[39m=\u001b[39m tf\u001b[39m.\u001b[39;49mshade(cvs\u001b[39m.\u001b[39;49mline(df, \u001b[39m'\u001b[39;49m\u001b[39mx\u001b[39;49m\u001b[39m'\u001b[39;49m, \u001b[39m'\u001b[39;49m\u001b[39my\u001b[39;49m\u001b[39m'\u001b[39;49m), cmap\u001b[39m=\u001b[39;49m[\u001b[39m'\u001b[39;49m\u001b[39mred\u001b[39;49m\u001b[39m'\u001b[39;49m])\n\u001b[1;32m      <a href='vscode-notebook-cell://wsl%2Bubuntu/home/appllo/projects/sdr-projects/huffman/visualization.ipynb#W4sdnNjb2RlLXJlbW90ZQ%3D%3D?line=8'>9</a>\u001b[0m \u001b[39m# Display the image\u001b[39;00m\n\u001b[1;32m     <a href='vscode-notebook-cell://wsl%2Bubuntu/home/appllo/projects/sdr-projects/huffman/visualization.ipynb#W4sdnNjb2RlLXJlbW90ZQ%3D%3D?line=9'>10</a>\u001b[0m display(img)\n",
      "File \u001b[0;32m~/projects/sdr-projects/huffman/.conda/lib/python3.10/site-packages/datashader/transfer_functions/__init__.py:711\u001b[0m, in \u001b[0;36mshade\u001b[0;34m(agg, cmap, color_key, how, alpha, min_alpha, span, name, color_baseline, rescale_discrete_levels)\u001b[0m\n\u001b[1;32m    707\u001b[0m         \u001b[39mreturn\u001b[39;00m _apply_discrete_colorkey(\n\u001b[1;32m    708\u001b[0m             agg, color_key, alpha, name, color_baseline\n\u001b[1;32m    709\u001b[0m         )\n\u001b[1;32m    710\u001b[0m     \u001b[39melse\u001b[39;00m:\n\u001b[0;32m--> 711\u001b[0m         \u001b[39mreturn\u001b[39;00m _interpolate(agg, cmap, how, alpha, span, min_alpha, name,\n\u001b[1;32m    712\u001b[0m                             rescale_discrete_levels)\n\u001b[1;32m    713\u001b[0m \u001b[39melif\u001b[39;00m agg\u001b[39m.\u001b[39mndim \u001b[39m==\u001b[39m \u001b[39m3\u001b[39m:\n\u001b[1;32m    714\u001b[0m     \u001b[39mreturn\u001b[39;00m _colorize(agg, color_key, how, alpha, span, min_alpha, name, color_baseline,\n\u001b[1;32m    715\u001b[0m                      rescale_discrete_levels)\n",
      "File \u001b[0;32m~/projects/sdr-projects/huffman/.conda/lib/python3.10/site-packages/datashader/transfer_functions/__init__.py:312\u001b[0m, in \u001b[0;36m_interpolate\u001b[0;34m(agg, cmap, how, alpha, span, min_alpha, name, rescale_discrete_levels)\u001b[0m\n\u001b[1;32m    310\u001b[0m r \u001b[39m=\u001b[39m np\u001b[39m.\u001b[39mnan_to_num(interp(data, span, rspan, left\u001b[39m=\u001b[39m\u001b[39m255\u001b[39m), copy\u001b[39m=\u001b[39m\u001b[39mFalse\u001b[39;00m)\u001b[39m.\u001b[39mastype(np\u001b[39m.\u001b[39muint8)\n\u001b[1;32m    311\u001b[0m g \u001b[39m=\u001b[39m np\u001b[39m.\u001b[39mnan_to_num(interp(data, span, gspan, left\u001b[39m=\u001b[39m\u001b[39m255\u001b[39m), copy\u001b[39m=\u001b[39m\u001b[39mFalse\u001b[39;00m)\u001b[39m.\u001b[39mastype(np\u001b[39m.\u001b[39muint8)\n\u001b[0;32m--> 312\u001b[0m b \u001b[39m=\u001b[39m np\u001b[39m.\u001b[39;49mnan_to_num(interp(data, span, bspan, left\u001b[39m=\u001b[39;49m\u001b[39m255\u001b[39;49m), copy\u001b[39m=\u001b[39;49m\u001b[39mFalse\u001b[39;49;00m)\u001b[39m.\u001b[39;49mastype(np\u001b[39m.\u001b[39;49muint8)\n\u001b[1;32m    313\u001b[0m a \u001b[39m=\u001b[39m np\u001b[39m.\u001b[39mwhere(np\u001b[39m.\u001b[39misnan(data), \u001b[39m0\u001b[39m, alpha)\u001b[39m.\u001b[39mastype(np\u001b[39m.\u001b[39muint8)\n\u001b[1;32m    314\u001b[0m rgba \u001b[39m=\u001b[39m np\u001b[39m.\u001b[39mdstack([r, g, b, a])\n",
      "\u001b[0;31mKeyboardInterrupt\u001b[0m: "
     ]
    }
   ],
   "source": [
    "from IPython.display import display, clear_output\n",
    "\n",
    "arr = np.fromfile(\"continuous-tests/shortsine-1m.in\", sep=\"\", dtype=np.float32)\n",
    "visualize_moving_dataset(arr, 0, 1000, 5)"
   ]
  },
  {
   "cell_type": "code",
   "execution_count": 80,
   "metadata": {},
   "outputs": [
    {
     "ename": "KeyboardInterrupt",
     "evalue": "",
     "output_type": "error",
     "traceback": [
      "\u001b[0;31m---------------------------------------------------------------------------\u001b[0m",
      "\u001b[0;31mKeyboardInterrupt\u001b[0m                         Traceback (most recent call last)",
      "\u001b[1;32m/home/appllo/projects/sdr-projects/huffman/visualization.ipynb Cell 5\u001b[0m line \u001b[0;36m2\n\u001b[1;32m      <a href='vscode-notebook-cell://wsl%2Bubuntu/home/appllo/projects/sdr-projects/huffman/visualization.ipynb#W0sdnNjb2RlLXJlbW90ZQ%3D%3D?line=0'>1</a>\u001b[0m extrap_errors \u001b[39m=\u001b[39m np\u001b[39m.\u001b[39mfromfile(\u001b[39m\"\u001b[39m\u001b[39mout/continuous-tests/shortsine-1m.in-compressed.bin-extrap-errors.txt\u001b[39m\u001b[39m\"\u001b[39m, sep\u001b[39m=\u001b[39m\u001b[39m\"\u001b[39m\u001b[39m\\n\u001b[39;00m\u001b[39m\"\u001b[39m, dtype\u001b[39m=\u001b[39mnp\u001b[39m.\u001b[39mfloat32)\n\u001b[0;32m----> <a href='vscode-notebook-cell://wsl%2Bubuntu/home/appllo/projects/sdr-projects/huffman/visualization.ipynb#W0sdnNjb2RlLXJlbW90ZQ%3D%3D?line=1'>2</a>\u001b[0m visualize_moving_dataset(extrap_errors, \u001b[39m0\u001b[39;49m, \u001b[39m3000\u001b[39;49m, \u001b[39m10\u001b[39;49m)\n",
      "\u001b[1;32m/home/appllo/projects/sdr-projects/huffman/visualization.ipynb Cell 5\u001b[0m line \u001b[0;36m7\n\u001b[1;32m      <a href='vscode-notebook-cell://wsl%2Bubuntu/home/appllo/projects/sdr-projects/huffman/visualization.ipynb#W0sdnNjb2RlLXJlbW90ZQ%3D%3D?line=4'>5</a>\u001b[0m df \u001b[39m=\u001b[39m pd\u001b[39m.\u001b[39mDataFrame(data)\n\u001b[1;32m      <a href='vscode-notebook-cell://wsl%2Bubuntu/home/appllo/projects/sdr-projects/huffman/visualization.ipynb#W0sdnNjb2RlLXJlbW90ZQ%3D%3D?line=5'>6</a>\u001b[0m cvs \u001b[39m=\u001b[39m ds\u001b[39m.\u001b[39mCanvas(x_range\u001b[39m=\u001b[39m(start, start\u001b[39m+\u001b[39mn\u001b[39m-\u001b[39m\u001b[39m1\u001b[39m), y_range\u001b[39m=\u001b[39m(np\u001b[39m.\u001b[39mmin(arr[start:start\u001b[39m+\u001b[39mn]), np\u001b[39m.\u001b[39mmax(arr[start:start\u001b[39m+\u001b[39mn])), plot_height\u001b[39m=\u001b[39m\u001b[39m250\u001b[39m, plot_width\u001b[39m=\u001b[39m\u001b[39m1200\u001b[39m)\n\u001b[0;32m----> <a href='vscode-notebook-cell://wsl%2Bubuntu/home/appllo/projects/sdr-projects/huffman/visualization.ipynb#W0sdnNjb2RlLXJlbW90ZQ%3D%3D?line=6'>7</a>\u001b[0m img \u001b[39m=\u001b[39m tf\u001b[39m.\u001b[39;49mshade(cvs\u001b[39m.\u001b[39;49mline(df, \u001b[39m'\u001b[39;49m\u001b[39mx\u001b[39;49m\u001b[39m'\u001b[39;49m, \u001b[39m'\u001b[39;49m\u001b[39my\u001b[39;49m\u001b[39m'\u001b[39;49m), cmap\u001b[39m=\u001b[39;49m[\u001b[39m'\u001b[39;49m\u001b[39mred\u001b[39;49m\u001b[39m'\u001b[39;49m])\n\u001b[1;32m      <a href='vscode-notebook-cell://wsl%2Bubuntu/home/appllo/projects/sdr-projects/huffman/visualization.ipynb#W0sdnNjb2RlLXJlbW90ZQ%3D%3D?line=8'>9</a>\u001b[0m \u001b[39m# Display the image\u001b[39;00m\n\u001b[1;32m     <a href='vscode-notebook-cell://wsl%2Bubuntu/home/appllo/projects/sdr-projects/huffman/visualization.ipynb#W0sdnNjb2RlLXJlbW90ZQ%3D%3D?line=9'>10</a>\u001b[0m display(img)\n",
      "File \u001b[0;32m~/projects/sdr-projects/huffman/.conda/lib/python3.10/site-packages/datashader/transfer_functions/__init__.py:711\u001b[0m, in \u001b[0;36mshade\u001b[0;34m(agg, cmap, color_key, how, alpha, min_alpha, span, name, color_baseline, rescale_discrete_levels)\u001b[0m\n\u001b[1;32m    707\u001b[0m         \u001b[39mreturn\u001b[39;00m _apply_discrete_colorkey(\n\u001b[1;32m    708\u001b[0m             agg, color_key, alpha, name, color_baseline\n\u001b[1;32m    709\u001b[0m         )\n\u001b[1;32m    710\u001b[0m     \u001b[39melse\u001b[39;00m:\n\u001b[0;32m--> 711\u001b[0m         \u001b[39mreturn\u001b[39;00m _interpolate(agg, cmap, how, alpha, span, min_alpha, name,\n\u001b[1;32m    712\u001b[0m                             rescale_discrete_levels)\n\u001b[1;32m    713\u001b[0m \u001b[39melif\u001b[39;00m agg\u001b[39m.\u001b[39mndim \u001b[39m==\u001b[39m \u001b[39m3\u001b[39m:\n\u001b[1;32m    714\u001b[0m     \u001b[39mreturn\u001b[39;00m _colorize(agg, color_key, how, alpha, span, min_alpha, name, color_baseline,\n\u001b[1;32m    715\u001b[0m                      rescale_discrete_levels)\n",
      "File \u001b[0;32m~/projects/sdr-projects/huffman/.conda/lib/python3.10/site-packages/datashader/transfer_functions/__init__.py:309\u001b[0m, in \u001b[0;36m_interpolate\u001b[0;34m(agg, cmap, how, alpha, span, min_alpha, name, rescale_discrete_levels)\u001b[0m\n\u001b[1;32m    307\u001b[0m \u001b[39mif\u001b[39;00m \u001b[39misinstance\u001b[39m(cmap, \u001b[39mlist\u001b[39m):\n\u001b[1;32m    308\u001b[0m     rspan, gspan, bspan \u001b[39m=\u001b[39m np\u001b[39m.\u001b[39marray(\u001b[39mlist\u001b[39m(\u001b[39mzip\u001b[39m(\u001b[39m*\u001b[39m\u001b[39mmap\u001b[39m(rgb, cmap))))\n\u001b[0;32m--> 309\u001b[0m     span \u001b[39m=\u001b[39m np\u001b[39m.\u001b[39mlinspace(span[\u001b[39m0\u001b[39m], span[\u001b[39m1\u001b[39m], \u001b[39mlen\u001b[39;49m(cmap))\n\u001b[1;32m    310\u001b[0m     r \u001b[39m=\u001b[39m np\u001b[39m.\u001b[39mnan_to_num(interp(data, span, rspan, left\u001b[39m=\u001b[39m\u001b[39m255\u001b[39m), copy\u001b[39m=\u001b[39m\u001b[39mFalse\u001b[39;00m)\u001b[39m.\u001b[39mastype(np\u001b[39m.\u001b[39muint8)\n\u001b[1;32m    311\u001b[0m     g \u001b[39m=\u001b[39m np\u001b[39m.\u001b[39mnan_to_num(interp(data, span, gspan, left\u001b[39m=\u001b[39m\u001b[39m255\u001b[39m), copy\u001b[39m=\u001b[39m\u001b[39mFalse\u001b[39;00m)\u001b[39m.\u001b[39mastype(np\u001b[39m.\u001b[39muint8)\n",
      "\u001b[0;31mKeyboardInterrupt\u001b[0m: "
     ]
    }
   ],
   "source": [
    "extrap_errors = np.fromfile(\"out/continuous-tests/shortsine-1m.in-compressed.bin-extrap-errors.txt\", sep=\"\\n\", dtype=np.float32)\n",
    "visualize_moving_dataset(extrap_errors, 0, 3000, 10)"
   ]
  },
  {
   "cell_type": "markdown",
   "metadata": {},
   "source": [
    "Histogram"
   ]
  },
  {
   "cell_type": "code",
   "execution_count": 64,
   "metadata": {},
   "outputs": [],
   "source": [
    "quantization_levels = np.fromfile(\"out/continuous-tests/shortsine-1m.in-compressed.bin-quantization-levels.txt\", sep=\"\\n\", dtype=np.float32)"
   ]
  },
  {
   "cell_type": "code",
   "execution_count": 73,
   "metadata": {},
   "outputs": [
    {
     "data": {
      "image/png": "[encoded data removed]",
      "text/plain": [
       "<Figure size 640x480 with 1 Axes>"
      ]
     },
     "metadata": {},
     "output_type": "display_data"
    }
   ],
   "source": [
    "# Create the histogram\n",
    "plt.hist(extrap_errors, bins=50)\n",
    "plt.show()"
   ]
  },
  {
   "cell_type": "code",
   "execution_count": 18,
   "metadata": {},
   "outputs": [
    {
     "data": {
      "text/plain": [
       "0.7208021"
      ]
     },
     "execution_count": 18,
     "metadata": {},
     "output_type": "execute_result"
    }
   ],
   "source": [
    "np.mean(np.abs(extrap_errors))"
   ]
  },
  {
   "cell_type": "code",
   "execution_count": 24,
   "metadata": {},
   "outputs": [],
   "source": [
    "original = np.fromfile(\"continuous-tests/shortsine-1m.in\", sep=\"\", dtype=np.float32)\n",
    "decompressed = np.fromfile(\"out/continuous-tests/shortsine-1m.in-decompressed.bin\", sep=\"\", dtype=np.float32)\n",
    "diff = decompressed - original"
   ]
  },
  {
   "cell_type": "code",
   "execution_count": 33,
   "metadata": {},
   "outputs": [
    {
     "data": {
      "text/plain": [
       "0.0010000021"
      ]
     },
     "execution_count": 33,
     "metadata": {},
     "output_type": "execute_result"
    }
   ],
   "source": [
    "np.max(diff / np.ptp(original))"
   ]
  }
 ],
 "metadata": {
  "kernelspec": {
   "display_name": "Python 3",
   "language": "python",
   "name": "python3"
  },
  "language_info": {
   "codemirror_mode": {
    "name": "ipython",
    "version": 3
   },
   "file_extension": ".py",
   "mimetype": "text/x-python",
   "name": "python",
   "nbconvert_exporter": "python",
   "pygments_lexer": "ipython3",
   "version": "3.10.13"
  }
 },
 "nbformat": 4,
 "nbformat_minor": 2
}
